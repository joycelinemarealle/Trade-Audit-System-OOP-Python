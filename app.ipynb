{
 "cells": [
  {
   "cell_type": "code",
   "execution_count": null,
   "metadata": {},
   "outputs": [],
   "source": [
    "%run test_stock.py"
   ]
  },
  {
   "cell_type": "code",
   "execution_count": null,
   "metadata": {},
   "outputs": [],
   "source": []
  },
  {
   "cell_type": "code",
   "execution_count": null,
   "metadata": {},
   "outputs": [],
   "source": []
  },
  {
   "cell_type": "code",
   "execution_count": 1,
   "metadata": {},
   "outputs": [
    {
     "name": "stdout",
     "output_type": "stream",
     "text": [
      "Stock (ID: id1,EXCHANGE: CHX,SYMBOL: FB, PRICE: 100,QUANTITY: 120, SIDE: sell)\n",
      "Stock (ID: id2,EXCHANGE: NASDAQ,SYMBOL: AAPL, PRICE: 150.5,QUANTITY: 75, SIDE: buy)\n",
      "Stock (ID: id3,EXCHANGE: CHX,SYMBOL: ORCL, PRICE: 70.219999999999998863131622783839702606201171875,QUANTITY: 160, SIDE: sell)\n",
      "Stock (ID: id4,EXCHANGE: NYSE,SYMBOL: F, PRICE: 50.340000000000003410605131648480892181396484375,QUANTITY: 200, SIDE: buy)\n",
      "Stock (ID: id5,EXCHANGE: NASDAQ,SYMBOL: AAPL, PRICE: 155.990000000000009094947017729282379150390625,QUANTITY: 65, SIDE: buy)\n",
      "Stock (ID: id6,EXCHANGE: NASDAQ,SYMBOL: F, PRICE: 55.11999999999999744204615126363933086395263671875,QUANTITY: 200, SIDE: buy)\n",
      "Stock (ID: id7,EXCHANGE: NYSE,SYMBOL: FB, PRICE: 100.340000000000003410605131648480892181396484375,QUANTITY: 120, SIDE: sell)\n",
      "Stock (ID: id8,EXCHANGE: CHX,SYMBOL: AAPL, PRICE: 150.43999999999999772626324556767940521240234375,QUANTITY: 75, SIDE: buy)\n",
      "Stock (ID: id9,EXCHANGE: NYSE,SYMBOL: AAPL, PRICE: 150.729999999999989768184605054557323455810546875,QUANTITY: 80, SIDE: sell)\n",
      "Stock (ID: id10,EXCHANGE: CHX,SYMBOL: ORCL, PRICE: 75.8900000000000005684341886080801486968994140625,QUANTITY: 170, SIDE: sell)\n",
      "\n",
      "The total value of all trades is : $205729331046.00\n",
      "The total value of all IBM bought trades is: $ 10304752186.00\n",
      "The total value of all IBM sold trades is: $ 23735140254.00\n",
      "The total value of all NYSE bought trades is: $ 23123649878.00\n",
      "The total value of all NYSE sold trades is: $ 46008281458.00\n",
      "-- Printing from tradebook --\n",
      "\n",
      "The summary of reference trades statistics\n",
      "There are 2 items in list with an average value of 12000\n",
      "\n",
      "\n",
      "The summary of small trades statistics\n",
      "There are 6 items in list with an average value of 10839.50833333333340154543597\n",
      "\n",
      "The summary of large trades statistics\n",
      "There are 117004 items in list with an average value of 1758310.553882773238521757268\n"
     ]
    }
   ],
   "source": [
    "\n",
    "%run driver.py"
   ]
  }
 ],
 "metadata": {
  "kernelspec": {
   "display_name": "Python 3",
   "language": "python",
   "name": "python3"
  },
  "language_info": {
   "codemirror_mode": {
    "name": "ipython",
    "version": 3
   },
   "file_extension": ".py",
   "mimetype": "text/x-python",
   "name": "python",
   "nbconvert_exporter": "python",
   "pygments_lexer": "ipython3",
   "version": "3.11.7"
  }
 },
 "nbformat": 4,
 "nbformat_minor": 2
}
